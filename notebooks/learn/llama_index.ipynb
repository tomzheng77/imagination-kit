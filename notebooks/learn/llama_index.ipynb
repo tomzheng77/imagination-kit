{
 "cells": [
  {
   "cell_type": "code",
   "id": "initial_id",
   "metadata": {
    "collapsed": true,
    "ExecuteTime": {
     "end_time": "2024-05-23T09:25:19.621557Z",
     "start_time": "2024-05-23T09:25:19.617523Z"
    }
   },
   "source": [
    "import dotenv\n",
    "from llama_index.core import (\n",
    "    VectorStoreIndex,\n",
    "    SimpleDirectoryReader,\n",
    "    StorageContext,\n",
    "    load_index_from_storage,\n",
    ")\n",
    "\n",
    "dotenv.load_dotenv()"
   ],
   "outputs": [
    {
     "data": {
      "text/plain": [
       "True"
      ]
     },
     "execution_count": 16,
     "metadata": {},
     "output_type": "execute_result"
    }
   ],
   "execution_count": 16
  },
  {
   "metadata": {
    "ExecuteTime": {
     "end_time": "2024-05-23T09:26:19.902494Z",
     "start_time": "2024-05-23T09:26:17.860521Z"
    }
   },
   "cell_type": "code",
   "source": [
    "documents = SimpleDirectoryReader(\"data\").load_data()\n",
    "index = VectorStoreIndex.from_documents(documents)"
   ],
   "id": "81f5f42e6f7bda52",
   "outputs": [],
   "execution_count": 23
  },
  {
   "metadata": {
    "ExecuteTime": {
     "end_time": "2024-05-23T09:26:42.129846Z",
     "start_time": "2024-05-23T09:26:42.044209Z"
    }
   },
   "cell_type": "code",
   "source": "index.storage_context.persist('./storage')",
   "id": "6c32d653e374a116",
   "outputs": [],
   "execution_count": 26
  },
  {
   "metadata": {
    "ExecuteTime": {
     "end_time": "2024-05-23T09:26:42.951396Z",
     "start_time": "2024-05-23T09:26:42.791873Z"
    }
   },
   "cell_type": "code",
   "source": [
    "storage_context = StorageContext.from_defaults(persist_dir='./storage')\n",
    "index = load_index_from_storage(storage_context)"
   ],
   "id": "7c54351dd75d6c0",
   "outputs": [],
   "execution_count": 27
  },
  {
   "metadata": {
    "ExecuteTime": {
     "end_time": "2024-05-23T09:26:46.544056Z",
     "start_time": "2024-05-23T09:26:44.320007Z"
    }
   },
   "cell_type": "code",
   "source": [
    "query_engine = index.as_query_engine()\n",
    "response = query_engine.query(\"What is my name?\")\n",
    "print(response)"
   ],
   "id": "470aa4cbbae090c0",
   "outputs": [
    {
     "name": "stdout",
     "output_type": "stream",
     "text": [
      "Your name is Daniel Danilatos.\n"
     ]
    }
   ],
   "execution_count": 28
  },
  {
   "metadata": {
    "ExecuteTime": {
     "end_time": "2024-05-23T09:26:52.968289Z",
     "start_time": "2024-05-23T09:26:47.136112Z"
    }
   },
   "cell_type": "code",
   "source": [
    "chat_engine = index.as_chat_engine()\n",
    "response = chat_engine.chat(\"What are my favorite books?\")\n",
    "print(response)"
   ],
   "id": "e500017780b15bef",
   "outputs": [
    {
     "name": "stdout",
     "output_type": "stream",
     "text": [
      "Your favorite books are *Dune* by Frank Herbert, *Ender's Game* by Orson Scott Card, *The Hitchhiker's Guide to the Galaxy* by Douglas Adams, *1984* by George Orwell, and *Neuromancer* by William Gibson.\n"
     ]
    }
   ],
   "execution_count": 29
  },
  {
   "metadata": {
    "ExecuteTime": {
     "end_time": "2024-05-23T09:27:14.115611Z",
     "start_time": "2024-05-23T09:27:12.798606Z"
    }
   },
   "cell_type": "code",
   "source": "print(chat_engine.chat(\"What did I just ask?\"))",
   "id": "409bc8573775d571",
   "outputs": [
    {
     "name": "stdout",
     "output_type": "stream",
     "text": [
      "You just asked about your favorite books.\n"
     ]
    }
   ],
   "execution_count": 30
  },
  {
   "metadata": {},
   "cell_type": "code",
   "outputs": [],
   "execution_count": null,
   "source": [
    "# https://docs.llamaindex.ai/en/stable/getting_started/concepts/\n",
    "# https://docs.llamaindex.ai/en/stable/getting_started/customization/\n",
    "# https://docs.llamaindex.ai/en/stable/module_guides/loading/simpledirectoryreader/\n",
    "# https://docs.llamaindex.ai/en/stable/getting_started/starter_tools/rag_cli/"
   ],
   "id": "141269ade1b3a56a"
  }
 ],
 "metadata": {
  "kernelspec": {
   "display_name": "Python 3",
   "language": "python",
   "name": "python3"
  },
  "language_info": {
   "codemirror_mode": {
    "name": "ipython",
    "version": 2
   },
   "file_extension": ".py",
   "mimetype": "text/x-python",
   "name": "python",
   "nbconvert_exporter": "python",
   "pygments_lexer": "ipython2",
   "version": "2.7.6"
  }
 },
 "nbformat": 4,
 "nbformat_minor": 5
}
